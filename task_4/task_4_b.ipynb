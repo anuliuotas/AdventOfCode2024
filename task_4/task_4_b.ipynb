{
 "cells": [
  {
   "cell_type": "code",
   "execution_count": 34,
   "metadata": {},
   "outputs": [],
   "source": [
    "lines = []\n",
    "with open('input.txt', 'r') as file:\n",
    "    for line in file:\n",
    "        lines.append(line.replace('\\n', '')) "
   ]
  },
  {
   "cell_type": "code",
   "execution_count": 37,
   "metadata": {},
   "outputs": [
    {
     "data": {
      "text/plain": [
       "[['SXM', 'SAM', 'SAM'],\n",
       " ['XMS', 'AMA', 'AMX'],\n",
       " ['MSM', 'MAM', 'MXS'],\n",
       " ['SMM', 'AMS', 'XSA'],\n",
       " ['MMX', 'MSM', 'SAA']]"
      ]
     },
     "execution_count": 37,
     "metadata": {},
     "output_type": "execute_result"
    }
   ],
   "source": [
    "lx = len(lines[0])\n",
    "ly = len(lines)\n",
    "\n",
    "size = 3\n",
    "\n",
    "bites = []\n",
    "\n",
    "for x in range(0, lx - (size - 1)):\n",
    "    for y in range(0, ly - (size - 1)):\n",
    "        bite = []\n",
    "        for z in range(0, size):\n",
    "            bite.append(lines[x + z][y:y + size])\n",
    "        bites.append(bite)\n",
    "bites[:5]"
   ]
  },
  {
   "cell_type": "code",
   "execution_count": 38,
   "metadata": {},
   "outputs": [],
   "source": [
    "def replace_string_char(s, index, char):\n",
    "    return s[:index] + char + s[index + 1:]"
   ]
  },
  {
   "cell_type": "code",
   "execution_count": 41,
   "metadata": {},
   "outputs": [
    {
     "data": {
      "text/plain": [
       "1890"
      ]
     },
     "execution_count": 41,
     "metadata": {},
     "output_type": "execute_result"
    }
   ],
   "source": [
    "masks = [\n",
    "    [\n",
    "        'M_M',\n",
    "        '_A_',\n",
    "        'S_S'\n",
    "    ],\n",
    "    [\n",
    "        'M_S',\n",
    "        '_A_',\n",
    "        'M_S'\n",
    "    ],\n",
    "    [\n",
    "        'S_M',\n",
    "        '_A_',\n",
    "        'S_M'\n",
    "    ],\n",
    "    [\n",
    "        'S_S',\n",
    "        '_A_',\n",
    "        'M_M'\n",
    "    ]\n",
    "]\n",
    "\n",
    "count = 0\n",
    "for bite in bites:\n",
    "    masked_bite = [\n",
    "        replace_string_char(bite[0], 1, '_'),\n",
    "        replace_string_char(replace_string_char(bite[1], 0, '_'), 2, '_'),\n",
    "        replace_string_char(bite[2], 1, '_'),\n",
    "    ]\n",
    "        \n",
    "    for mask in masks:\n",
    "        if mask[0] == masked_bite[0] and mask[1] == masked_bite[1] and mask[2] == masked_bite[2]:\n",
    "            count += 1\n",
    "            break    \n",
    "\n",
    "count"
   ]
  }
 ],
 "metadata": {
  "kernelspec": {
   "display_name": "Python 3",
   "language": "python",
   "name": "python3"
  },
  "language_info": {
   "codemirror_mode": {
    "name": "ipython",
    "version": 3
   },
   "file_extension": ".py",
   "mimetype": "text/x-python",
   "name": "python",
   "nbconvert_exporter": "python",
   "pygments_lexer": "ipython3",
   "version": "3.10.12"
  }
 },
 "nbformat": 4,
 "nbformat_minor": 2
}
