{
 "cells": [
  {
   "cell_type": "code",
   "execution_count": 75,
   "metadata": {},
   "outputs": [],
   "source": [
    "reports = []\n",
    "with open('input.txt', 'r') as file:\n",
    "    for line in file:\n",
    "        arr = []\n",
    "        for nr in line.split(' '):\n",
    "            arr.append(int(nr))\n",
    "        reports.append(arr)"
   ]
  },
  {
   "cell_type": "code",
   "execution_count": 22,
   "metadata": {},
   "outputs": [
    {
     "data": {
      "text/plain": [
       "[[5, 6, 7, 10, 13, 16, 13],\n",
       " [19, 21, 24, 27, 28, 28],\n",
       " [16, 18, 20, 21, 23, 25, 29],\n",
       " [44, 46, 48, 49, 52, 55, 56, 62],\n",
       " [51, 52, 53, 50, 52]]"
      ]
     },
     "execution_count": 22,
     "metadata": {},
     "output_type": "execute_result"
    }
   ],
   "source": [
    "reports[:5]"
   ]
  },
  {
   "cell_type": "code",
   "execution_count": 56,
   "metadata": {},
   "outputs": [],
   "source": [
    "def is_safe(arr):\n",
    "    if arr[0] > arr[1]:\n",
    "        # desc\n",
    "        validator = lambda v: v[0] > v[1] \n",
    "    elif arr[0] < arr[1]:\n",
    "        # asc\n",
    "        validator = lambda v: v[0] < v[1] \n",
    "    else:\n",
    "        # eq -> not safe\n",
    "        return False\n",
    "\n",
    "    for idx in range(1, len(arr)):\n",
    "        prev_idx = idx - 1\n",
    "        \n",
    "        val_current = arr[idx]\n",
    "        val_prev = arr[prev_idx]\n",
    "        \n",
    "        valid = validator([val_prev, val_current])\n",
    "        if not valid:\n",
    "            return False\n",
    "        \n",
    "        diff_allowed = 3\n",
    "        if abs(val_current - val_prev) > diff_allowed:\n",
    "            return False\n",
    "    return True"
   ]
  },
  {
   "cell_type": "code",
   "execution_count": 57,
   "metadata": {},
   "outputs": [
    {
     "data": {
      "text/plain": [
       "True"
      ]
     },
     "execution_count": 57,
     "metadata": {},
     "output_type": "execute_result"
    }
   ],
   "source": [
    "is_safe([8, 6, 4, 3, 2, 1])"
   ]
  },
  {
   "cell_type": "code",
   "execution_count": 58,
   "metadata": {},
   "outputs": [
    {
     "data": {
      "text/plain": [
       "True"
      ]
     },
     "execution_count": 58,
     "metadata": {},
     "output_type": "execute_result"
    }
   ],
   "source": [
    "is_safe([3, 5, 7, 8, 9, 10])"
   ]
  },
  {
   "cell_type": "code",
   "execution_count": 90,
   "metadata": {},
   "outputs": [
    {
     "data": {
      "text/plain": [
       "299"
      ]
     },
     "execution_count": 90,
     "metadata": {},
     "output_type": "execute_result"
    }
   ],
   "source": [
    "valid_count = 0\n",
    "for r in reports:\n",
    "    if is_safe(r):\n",
    "        valid_count += 1\n",
    "valid_count"
   ]
  },
  {
   "cell_type": "code",
   "execution_count": 91,
   "metadata": {},
   "outputs": [
    {
     "data": {
      "text/plain": [
       "364"
      ]
     },
     "execution_count": 91,
     "metadata": {},
     "output_type": "execute_result"
    }
   ],
   "source": [
    "valid_count = 0\n",
    "for r in reports:\n",
    "    v = False\n",
    "    if is_safe(r):\n",
    "        valid_count += 1\n",
    "        v = True\n",
    "    else:\n",
    "        for idx in range(0, len(r)):\n",
    "            rr = r * 1\n",
    "            rr.pop(idx)\n",
    "            if is_safe(rr):\n",
    "                valid_count += 1\n",
    "                v = True\n",
    "                break\n",
    "    # if not v:\n",
    "    #     print(r)\n",
    "\n",
    "valid_count"
   ]
  }
 ],
 "metadata": {
  "kernelspec": {
   "display_name": "Python 3",
   "language": "python",
   "name": "python3"
  },
  "language_info": {
   "codemirror_mode": {
    "name": "ipython",
    "version": 3
   },
   "file_extension": ".py",
   "mimetype": "text/x-python",
   "name": "python",
   "nbconvert_exporter": "python",
   "pygments_lexer": "ipython3",
   "version": "3.10.12"
  }
 },
 "nbformat": 4,
 "nbformat_minor": 2
}
